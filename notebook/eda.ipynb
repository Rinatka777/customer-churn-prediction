{
 "cells": [
  {
   "cell_type": "code",
   "execution_count": 4,
   "metadata": {},
   "outputs": [
    {
     "name": "stdout",
     "output_type": "stream",
     "text": [
      "Accuracy: 0.8038379530916845\n",
      "Precision: 0.6484848484848484\n",
      "Recall: 0.5721925133689839\n",
      "F1 Score: 0.6079545454545454\n",
      "ROC AUC: 0.7299491124444146\n"
     ]
    },
    {
     "data": {
      "text/plain": [
       "array([0])"
      ]
     },
     "execution_count": 4,
     "metadata": {},
     "output_type": "execute_result"
    }
   ],
   "source": [
    "import pandas as pd\n",
    "from sklearn.model_selection import train_test_split\n",
    "from sklearn.linear_model import LogisticRegression\n",
    "from sklearn.metrics import accuracy_score, precision_score, recall_score, f1_score, roc_auc_score\n",
    "from sklearn import preprocessing\n",
    "import joblib\n",
    "from sklearn.preprocessing import StandardScaler\n",
    "\n",
    "\n",
    "# Load data\n",
    "df = pd.read_csv('/Users/ekaterinasharifullina/Documents/my_env/programming/churn/data/WA_Fn-UseC_-Telco-Customer-Churn.csv')  # You can adjust this path if needed\n",
    "\n",
    "\n",
    "\n",
    "def preprocess_data(df):\n",
    "    #all binary categories \n",
    "    dfcopy = df.copy(deep=True)\n",
    "    le= preprocessing.LabelEncoder()\n",
    "    \n",
    "    binary_cols = []\n",
    "    for col in dfcopy.columns:\n",
    "        if dfcopy[col].dtype == 'object' and dfcopy[col].nunique() == 2:\n",
    "            binary_cols.append(col)\n",
    "    for col in binary_cols:\n",
    "        dfcopy[col] = le.fit_transform(dfcopy[col])\n",
    "    \n",
    "    \n",
    "    multiple_cols = []\n",
    "    for col in dfcopy.columns:\n",
    "        if dfcopy[col].dtype == 'object' and dfcopy[col].nunique() > 2:\n",
    "            multiple_cols.append(col)\n",
    "\n",
    "    \n",
    "    dfcopy = pd.get_dummies(dfcopy, columns=multiple_cols, dtype=int)\n",
    "\n",
    "    return dfcopy\n",
    "\n",
    "\n",
    "df['TotalCharges'] = pd.to_numeric(df['TotalCharges'], errors='coerce')\n",
    "df = df[df['TotalCharges'].notna()]\n",
    "df = df.reset_index(drop=True)\n",
    "\n",
    "# 2. Extract y AFTER cleaning\n",
    "y = df['Churn'].map({'Yes': 1, 'No': 0})\n",
    "\n",
    "# 3. Drop Churn column\n",
    "df = df.drop('Churn', axis=1)\n",
    "\n",
    "# 4. Preprocess\n",
    "df_clean = preprocess_data(df)\n",
    "\n",
    "scaler = StandardScaler()\n",
    "\n",
    "df_clean[['tenure', 'MonthlyCharges', 'TotalCharges']] = scaler.fit_transform(\n",
    "    df_clean[['tenure', 'MonthlyCharges', 'TotalCharges']]\n",
    ")\n",
    "X = df_clean\n",
    "\n",
    "# Train/test split\n",
    "X_train, X_test, y_train, y_test = train_test_split(X, y, test_size=0.2, random_state=42, stratify= y)\n",
    "\n",
    "# Model training\n",
    "model = LogisticRegression(max_iter=1000)\n",
    "model.fit(X_train, y_train)\n",
    "\n",
    "# Evaluation\n",
    "y_pred = model.predict(X_test)\n",
    "y_prob = model.predict_proba(X_test)[:, 1]\n",
    "\n",
    "\n",
    "print(\"Accuracy:\", accuracy_score(y_test, y_pred))\n",
    "print(\"Precision:\", precision_score(y_test, y_pred))\n",
    "print(\"Recall:\", recall_score(y_test, y_pred))\n",
    "print(\"F1 Score:\", f1_score(y_test, y_pred))\n",
    "print(\"ROC AUC:\", roc_auc_score(y_test, y_pred))\n",
    "\n",
    "joblib.dump(model,\"titanic_model.pkl\")\n",
    "\n",
    "loaded_model = joblib.load(\"titanic_model.pkl\")\n",
    "\n",
    "loaded_model.predict(X_test[0:1])\n"
   ]
  }
 ],
 "metadata": {
  "kernelspec": {
   "display_name": ".venv",
   "language": "python",
   "name": "python3"
  },
  "language_info": {
   "codemirror_mode": {
    "name": "ipython",
    "version": 3
   },
   "file_extension": ".py",
   "mimetype": "text/x-python",
   "name": "python",
   "nbconvert_exporter": "python",
   "pygments_lexer": "ipython3",
   "version": "3.12.3"
  }
 },
 "nbformat": 4,
 "nbformat_minor": 2
}
